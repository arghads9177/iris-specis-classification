{
 "cells": [
  {
   "cell_type": "markdown",
   "id": "dd91f5af-164c-4982-be30-3b8cf61f5543",
   "metadata": {},
   "source": [
    "# Iris Species Classification\n",
    "\n",
    "## Project Overview\n",
    "\n",
    "The **Iris dataset** is one of the most famous datasets in the field of machine learning. It was originally used in R.A. Fisher's classic 1936 paper *The Use of Multiple Measurements in Taxonomic Problems*. This dataset contains 150 samples from three different species of Iris flowers: *Iris-setosa*, *Iris-versicolor*, and *Iris-virginica*, with four features recorded for each sample.\n",
    "\n",
    "The objective of this project is to build a classification model that predicts the species of an Iris flower based on the given features, using machine learning techniques.\n",
    "\n",
    "## Objective\n",
    "\n",
    "The goal of this project is to:\n",
    "\n",
    "1. Understand and visualize the dataset.\n",
    "2. Train a classification model to accurately predict the species of Iris flowers based on the four features.\n",
    "3. Evaluate the performance of different classification models using metrics such as accuracy, precision, recall, and F1-score.\n",
    "\n",
    "## Dataset Description\n",
    "\n",
    "The dataset includes the following columns:\n",
    "\n",
    "- **Id**: Unique identifier for each sample.\n",
    "- **SepalLengthCm**: Sepal length of the flower in centimeters.\n",
    "- **SepalWidthCm**: Sepal width of the flower in centimeters.\n",
    "- **PetalLengthCm**: Petal length of the flower in centimeters.\n",
    "- **PetalWidthCm**: Petal width of the flower in centimeters.\n",
    "- **Species**: The species of the flower (*Iris-setosa*, *Iris-versicolor*, or *Iris-virginica*).\n",
    "\n",
    "### Summary:\n",
    "\n",
    "- **Number of Observations**: 150\n",
    "- **Number of Features**: 5 (4 features + 1 target variable)\n",
    "\n",
    "### Problem Statement\n",
    "\n",
    "- **Model Training**: Train the machine learning model with the data so that it can able to predict the class of Iris species.\n",
    "- **Model Evaluation**: The objective of model evaluation is to evaluate the performance of the trained ML model using different evaluation metrics such as accuracy, presicion, recal and F1 scores.\n",
    "- **Model Optimization** Optimize the performance of the trained ML model using cross validation and hyperparameter tuning so that it can predict the class of Iris species more accurately.\n",
    "\n"
   ]
  },
  {
   "cell_type": "markdown",
   "id": "b496dff1-e429-491e-ad4c-02e44309c76f",
   "metadata": {},
   "source": [
    "### Load Libraries"
   ]
  },
  {
   "cell_type": "code",
   "execution_count": 1,
   "id": "86936957-19f0-416b-a2aa-7415c87185ec",
   "metadata": {},
   "outputs": [],
   "source": [
    "# General\n",
    "import pandas as pd\n",
    "import numpy as np\n",
    "import os\n",
    "import warnings\n",
    "import pickle\n",
    "\n",
    "# Preprocessing\n",
    "from sklearn.model_selection import train_test_split\n",
    "\n",
    "# Model and Evaluation Metrics\n",
    "from xgboost import XGBClassifier\n",
    "from sklearn.metrics import accuracy_score, precision_score, recall_score, f1_score"
   ]
  },
  {
   "cell_type": "markdown",
   "id": "3d1b16b7-ac69-470d-a3d2-84b5822613fb",
   "metadata": {},
   "source": [
    "### Settings"
   ]
  },
  {
   "cell_type": "code",
   "execution_count": 2,
   "id": "4bc337b2-f9d6-4852-8f8c-a913d6f688ad",
   "metadata": {},
   "outputs": [],
   "source": [
    "# Warning\n",
    "warnings.filterwarnings(\"ignore\")\n",
    "# Path\n",
    "data_path = \"../data\"\n",
    "model_path = \"../models\"\n",
    "csv_path = os.path.join(data_path, \"Iris_cleaned.csv\")"
   ]
  },
  {
   "cell_type": "markdown",
   "id": "c5e99d0c-4a9a-483a-aec8-21736e0ee831",
   "metadata": {},
   "source": [
    "### Load Data"
   ]
  },
  {
   "cell_type": "code",
   "execution_count": 3,
   "id": "ac7012ac-8822-4d53-8bff-fbbaf8e42d97",
   "metadata": {},
   "outputs": [],
   "source": [
    "df = pd.read_csv(csv_path)"
   ]
  },
  {
   "cell_type": "code",
   "execution_count": 4,
   "id": "8b21536d-0133-471d-acd4-0f290394dc9c",
   "metadata": {},
   "outputs": [
    {
     "data": {
      "text/html": [
       "<div>\n",
       "<style scoped>\n",
       "    .dataframe tbody tr th:only-of-type {\n",
       "        vertical-align: middle;\n",
       "    }\n",
       "\n",
       "    .dataframe tbody tr th {\n",
       "        vertical-align: top;\n",
       "    }\n",
       "\n",
       "    .dataframe thead th {\n",
       "        text-align: right;\n",
       "    }\n",
       "</style>\n",
       "<table border=\"1\" class=\"dataframe\">\n",
       "  <thead>\n",
       "    <tr style=\"text-align: right;\">\n",
       "      <th></th>\n",
       "      <th>SepalLengthCm</th>\n",
       "      <th>SepalWidthCm</th>\n",
       "      <th>PetalLengthCm</th>\n",
       "      <th>PetalWidthCm</th>\n",
       "      <th>Species</th>\n",
       "    </tr>\n",
       "  </thead>\n",
       "  <tbody>\n",
       "    <tr>\n",
       "      <th>0</th>\n",
       "      <td>5.1</td>\n",
       "      <td>3.5</td>\n",
       "      <td>1.4</td>\n",
       "      <td>0.2</td>\n",
       "      <td>0</td>\n",
       "    </tr>\n",
       "    <tr>\n",
       "      <th>1</th>\n",
       "      <td>4.9</td>\n",
       "      <td>3.0</td>\n",
       "      <td>1.4</td>\n",
       "      <td>0.2</td>\n",
       "      <td>0</td>\n",
       "    </tr>\n",
       "    <tr>\n",
       "      <th>2</th>\n",
       "      <td>4.7</td>\n",
       "      <td>3.2</td>\n",
       "      <td>1.3</td>\n",
       "      <td>0.2</td>\n",
       "      <td>0</td>\n",
       "    </tr>\n",
       "    <tr>\n",
       "      <th>3</th>\n",
       "      <td>4.6</td>\n",
       "      <td>3.1</td>\n",
       "      <td>1.5</td>\n",
       "      <td>0.2</td>\n",
       "      <td>0</td>\n",
       "    </tr>\n",
       "    <tr>\n",
       "      <th>4</th>\n",
       "      <td>5.0</td>\n",
       "      <td>3.6</td>\n",
       "      <td>1.4</td>\n",
       "      <td>0.2</td>\n",
       "      <td>0</td>\n",
       "    </tr>\n",
       "  </tbody>\n",
       "</table>\n",
       "</div>"
      ],
      "text/plain": [
       "   SepalLengthCm  SepalWidthCm  PetalLengthCm  PetalWidthCm  Species\n",
       "0            5.1           3.5            1.4           0.2        0\n",
       "1            4.9           3.0            1.4           0.2        0\n",
       "2            4.7           3.2            1.3           0.2        0\n",
       "3            4.6           3.1            1.5           0.2        0\n",
       "4            5.0           3.6            1.4           0.2        0"
      ]
     },
     "execution_count": 4,
     "metadata": {},
     "output_type": "execute_result"
    }
   ],
   "source": [
    "# Check data\n",
    "df.head()"
   ]
  },
  {
   "cell_type": "markdown",
   "id": "9fd54e09-be40-4d4d-9a31-793c7a3dba07",
   "metadata": {},
   "source": [
    "### Preprocessing"
   ]
  },
  {
   "cell_type": "code",
   "execution_count": 6,
   "id": "3851cf58-93e2-425b-8398-8689755fd991",
   "metadata": {},
   "outputs": [],
   "source": [
    "# Separate the Input and Output Features\n",
    "X = df.iloc[:, :-1]\n",
    "y = df[\"Species\"]"
   ]
  },
  {
   "cell_type": "code",
   "execution_count": 25,
   "id": "ce4a14fc-b8cf-467e-a51d-c5600607bf04",
   "metadata": {},
   "outputs": [],
   "source": [
    "# Split training and testing data\n",
    "X_train, X_test, y_train, y_test = train_test_split(X, y, test_size= 0.4, random_state= 42)"
   ]
  },
  {
   "cell_type": "markdown",
   "id": "c4d7cefd-9882-486e-8717-f3a754846e92",
   "metadata": {},
   "source": [
    "### Model Training and Evaluation"
   ]
  },
  {
   "cell_type": "code",
   "execution_count": 26,
   "id": "1dd76ebb-b434-4ed7-b09d-971d86aa692d",
   "metadata": {},
   "outputs": [],
   "source": [
    "# Define a function to train the model and evaluate\n",
    "def train_evaluate(model):\n",
    "    # Train the model\n",
    "    model.fit(X_train, y_train)\n",
    "\n",
    "    # Make prediction on training and testing data\n",
    "    y_train_pred = model.predict(X_train)\n",
    "    y_test_pred = model.predict(X_test)\n",
    "\n",
    "    # Print model evaluation scores\n",
    "    print(\"=\" * 60)\n",
    "    print(\"EVALUATION METRICS FOR TRAINING\")\n",
    "    print(\"=\" * 60)\n",
    "    print(f\"Accuracy: {accuracy_score(y_train, y_train_pred): 0.2f}\")\n",
    "    print(f\"Precision: {precision_score(y_train, y_train_pred, average='weighted'): 0.2f}\")\n",
    "    print(f\"Recall: {recall_score(y_train, y_train_pred, average='weighted'): 0.2f}\")\n",
    "    print(f\"F1: {f1_score(y_train, y_train_pred, average='weighted'): 0.2f}\")\n",
    "    print(\"=\" * 60)\n",
    "    print(\"EVALUATION METRICS FOR TESTING\")\n",
    "    print(\"=\" * 60)\n",
    "    print(f\"Accuracy: {accuracy_score(y_test, y_test_pred): 0.2f}\")\n",
    "    print(f\"Precision: {precision_score(y_test, y_test_pred, average='weighted'): 0.2f}\")\n",
    "    print(f\"Recall: {recall_score(y_test, y_test_pred, average='weighted'): 0.2f}\")\n",
    "    print(f\"F1: {f1_score(y_test, y_test_pred, average='weighted'): 0.2f}\")"
   ]
  },
  {
   "cell_type": "code",
   "execution_count": 27,
   "id": "4c266688-6035-4365-a2ba-ba0c5eb10c15",
   "metadata": {},
   "outputs": [
    {
     "name": "stdout",
     "output_type": "stream",
     "text": [
      "============================================================\n",
      "EVALUATION METRICS FOR TRAINING\n",
      "============================================================\n",
      "Accuracy:  1.00\n",
      "Precision:  1.00\n",
      "Recall:  1.00\n",
      "F1:  1.00\n",
      "============================================================\n",
      "EVALUATION METRICS FOR TESTING\n",
      "============================================================\n",
      "Accuracy:  0.98\n",
      "Precision:  0.98\n",
      "Recall:  0.98\n",
      "F1:  0.98\n"
     ]
    }
   ],
   "source": [
    "# Try with XGBoost Classifier\n",
    "xgbc = XGBClassifier()\n",
    "train_evaluate(xgbc)"
   ]
  },
  {
   "cell_type": "markdown",
   "id": "728d0d19-f8b5-46a1-ad14-5ea0ced43255",
   "metadata": {},
   "source": [
    "### Conclusion\n",
    "\n",
    "The model's performance on the training data is very high, with an accuracy of **100%**. This suggests that the model is doing an excellent job of predicting the outcomes for the training dataset. The precision of **100%** indicates that all of the predicted species are classified collectly, and the recall of **100%** suggests that the model is able to correctly identify all species. The F1-score of **100%**, which is the harmonic mean of precision and recall, also shows a strong balance between them.\n",
    "\n",
    "On the testing data, the model’s accuracy is also excellent which is **98%**, which is very close the training accuracy. The precision (**98%**) and recall (**98%**) also suggest that most of the species are correctly classified(a vary few false positive and false negetive are present). This indicates that the model is very much effective when dealing with unseen data and generalize the patterns it learned during training.\n",
    "\n",
    "- **Precision**: The value of **0.98** means that when the model predicts species correctly, **98%** of the time, they actually are correct species. The model makes a very false positive errors compared to the training data.\n",
    "- **Recall**: The value of **0.98** means that the model is able to identify **98%** of the actual species. It’s missing a very few species (false negatives), meaning it's very good in its predictions.\n",
    "- **F1-Score**: This is a balance between precision and recall. While the model is performing very well."
   ]
  },
  {
   "cell_type": "code",
   "execution_count": null,
   "id": "b4461515-d0c0-47f9-8ff6-2fdbae9f8c31",
   "metadata": {},
   "outputs": [],
   "source": []
  }
 ],
 "metadata": {
  "kernelspec": {
   "display_name": "Python 3 (ipykernel)",
   "language": "python",
   "name": "python3"
  },
  "language_info": {
   "codemirror_mode": {
    "name": "ipython",
    "version": 3
   },
   "file_extension": ".py",
   "mimetype": "text/x-python",
   "name": "python",
   "nbconvert_exporter": "python",
   "pygments_lexer": "ipython3",
   "version": "3.11.9"
  },
  "widgets": {
   "application/vnd.jupyter.widget-state+json": {
    "state": {},
    "version_major": 2,
    "version_minor": 0
   }
  }
 },
 "nbformat": 4,
 "nbformat_minor": 5
}
